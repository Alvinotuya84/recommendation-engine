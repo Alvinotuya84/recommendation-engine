{
 "cells": [
  {
   "cell_type": "code",
   "execution_count": 1,
   "metadata": {},
   "outputs": [
    {
     "data": {
      "text/plain": [
       "True"
      ]
     },
     "execution_count": 1,
     "metadata": {},
     "output_type": "execute_result"
    }
   ],
   "source": [
    "import firebase_admin\n",
    "from firebase_admin import credentials, storage\n",
    "from firebase_admin import db\n",
    "import pandas as pd\n",
    "import os\n",
    "import dotenv\n",
    "dotenv.load_dotenv()"
   ]
  },
  {
   "cell_type": "markdown",
   "metadata": {},
   "source": [
    "## Firebase Credentials"
   ]
  },
  {
   "cell_type": "code",
   "execution_count": 2,
   "metadata": {},
   "outputs": [],
   "source": [
    "service_account_info ={\n",
    "    \"type\": os.getenv('FIREBASE_TYPE'),\n",
    "    \"project_id\": os.getenv('FIREBASE_PROJECT_ID'),\n",
    "    \"private_key_id\": os.getenv('FIREBASE_PRIVATE_KEY_ID'),\n",
    "    \"private_key\": os.getenv('FIREBASE_PRIVATE_KEY'),\n",
    "    \"client_email\": os.getenv('FIREBASE_CLIENT_EMAIL'),\n",
    "    \"client_id\": os.getenv('FIREBASE_CLIENT_ID'),\n",
    "    \"auth_uri\": os.getenv('FIREBASE_AUTH_URI'),\n",
    "    \"token_uri\": os.getenv('FIREBASE_TOKEN_URI'),\n",
    "    \"auth_provider_x509_cert_url\": os.getenv('FIREBASE_AUTH_PROVIDER_X509_CERT_URL'),\n",
    "    \"client_x509_cert_url\": os.getenv('FIREBASE_CLIENT_X509_CERT_URL'),\n",
    "    \"universe_domain\": os.getenv('FIREBASE_UNIVERSE_DOMAIN')\n",
    "  }\n"
   ]
  },
  {
   "cell_type": "code",
   "execution_count": 3,
   "metadata": {},
   "outputs": [
    {
     "data": {
      "text/plain": [
       "<firebase_admin.App at 0x125e84440>"
      ]
     },
     "execution_count": 3,
     "metadata": {},
     "output_type": "execute_result"
    }
   ],
   "source": [
    "cred = credentials.Certificate(service_account_info)\n",
    "firebase_admin.initialize_app(cred,{\n",
    "    'storageBucket': 'coffee-recommendation-engine.firebasestorage.app',\n",
    "     'databaseURL': 'https://coffee-recommendation-engine.firebaseio.com/'\n",
    "})"
   ]
  },
  {
   "cell_type": "code",
   "execution_count": 4,
   "metadata": {},
   "outputs": [],
   "source": [
    "bucket = storage.bucket()\n"
   ]
  },
  {
   "cell_type": "markdown",
   "metadata": {},
   "source": [
    "## Upload Data"
   ]
  },
  {
   "cell_type": "code",
   "execution_count": 6,
   "metadata": {},
   "outputs": [],
   "source": [
    "image_folder_path = './products/images/'\n"
   ]
  },
  {
   "cell_type": "code",
   "execution_count": 9,
   "metadata": {},
   "outputs": [],
   "source": [
    "products_collection = db.reference('products')\n"
   ]
  },
  {
   "cell_type": "code",
   "execution_count": 10,
   "metadata": {},
   "outputs": [
    {
     "data": {
      "text/html": [
       "<div>\n",
       "<style scoped>\n",
       "    .dataframe tbody tr th:only-of-type {\n",
       "        vertical-align: middle;\n",
       "    }\n",
       "\n",
       "    .dataframe tbody tr th {\n",
       "        vertical-align: top;\n",
       "    }\n",
       "\n",
       "    .dataframe thead th {\n",
       "        text-align: right;\n",
       "    }\n",
       "</style>\n",
       "<table border=\"1\" class=\"dataframe\">\n",
       "  <thead>\n",
       "    <tr style=\"text-align: right;\">\n",
       "      <th></th>\n",
       "      <th>name</th>\n",
       "      <th>category</th>\n",
       "      <th>description</th>\n",
       "      <th>ingredients</th>\n",
       "      <th>price</th>\n",
       "      <th>rating</th>\n",
       "      <th>image_path</th>\n",
       "    </tr>\n",
       "  </thead>\n",
       "  <tbody>\n",
       "    <tr>\n",
       "      <th>0</th>\n",
       "      <td>Cappuccino</td>\n",
       "      <td>Coffee</td>\n",
       "      <td>A rich and creamy cappuccino made with freshly...</td>\n",
       "      <td>[Espresso, Steamed Milk, Milk Foam]</td>\n",
       "      <td>4.50</td>\n",
       "      <td>4.7</td>\n",
       "      <td>cappuccino.jpg</td>\n",
       "    </tr>\n",
       "    <tr>\n",
       "      <th>1</th>\n",
       "      <td>Jumbo Savory Scone</td>\n",
       "      <td>Bakery</td>\n",
       "      <td>Deliciously flaky and buttery, this jumbo savo...</td>\n",
       "      <td>[Flour, Butter, Cheese, Herbs, Baking Powder, ...</td>\n",
       "      <td>3.25</td>\n",
       "      <td>4.3</td>\n",
       "      <td>SavoryScone.webp</td>\n",
       "    </tr>\n",
       "  </tbody>\n",
       "</table>\n",
       "</div>"
      ],
      "text/plain": [
       "                 name category  \\\n",
       "0          Cappuccino   Coffee   \n",
       "1  Jumbo Savory Scone   Bakery   \n",
       "\n",
       "                                         description  \\\n",
       "0  A rich and creamy cappuccino made with freshly...   \n",
       "1  Deliciously flaky and buttery, this jumbo savo...   \n",
       "\n",
       "                                         ingredients  price  rating  \\\n",
       "0                [Espresso, Steamed Milk, Milk Foam]   4.50     4.7   \n",
       "1  [Flour, Butter, Cheese, Herbs, Baking Powder, ...   3.25     4.3   \n",
       "\n",
       "         image_path  \n",
       "0    cappuccino.jpg  \n",
       "1  SavoryScone.webp  "
      ]
     },
     "execution_count": 10,
     "metadata": {},
     "output_type": "execute_result"
    }
   ],
   "source": [
    "df = pd.read_json('products/products.jsonl',lines=True)\n",
    "df.head(2)\n"
   ]
  },
  {
   "cell_type": "code",
   "execution_count": 11,
   "metadata": {},
   "outputs": [],
   "source": [
    "def upload_image(bucket, image_path):\n",
    "    image_name = image_path.split('/')[-1]\n",
    "    blob = bucket.blob(f'product_images/{image_name}')\n",
    "    # Upload image\n",
    "    blob.upload_from_filename(image_path)\n",
    "    # Make the image publicly accessible and get its URL\n",
    "    blob.make_public()\n",
    "    return blob.public_url"
   ]
  },
  {
   "cell_type": "code",
   "execution_count": 12,
   "metadata": {},
   "outputs": [
    {
     "name": "stdout",
     "output_type": "stream",
     "text": [
      "Processing row 0: Cappuccino\n",
      "Product Cappuccino added to Firestore.\n",
      "Processing row 1: Jumbo Savory Scone\n",
      "Product Jumbo Savory Scone added to Firestore.\n",
      "Processing row 2: Latte\n",
      "Product Latte added to Firestore.\n",
      "Processing row 3: Chocolate Chip Biscotti\n",
      "Product Chocolate Chip Biscotti added to Firestore.\n",
      "Processing row 4: Espresso shot\n",
      "Product Espresso shot added to Firestore.\n",
      "Processing row 5: Hazelnut Biscotti\n",
      "Product Hazelnut Biscotti added to Firestore.\n",
      "Processing row 6: Chocolate Croissant\n",
      "Product Chocolate Croissant added to Firestore.\n",
      "Processing row 7: Dark chocolate\n",
      "Product Dark chocolate added to Firestore.\n",
      "Processing row 8: Cranberry Scone\n",
      "Product Cranberry Scone added to Firestore.\n",
      "Processing row 9: Croissant\n",
      "Product Croissant added to Firestore.\n",
      "Processing row 10: Almond Croissant\n",
      "Product Almond Croissant added to Firestore.\n",
      "Processing row 11: Ginger Biscotti\n",
      "Product Ginger Biscotti added to Firestore.\n",
      "Processing row 12: Oatmeal Scone\n",
      "Product Oatmeal Scone added to Firestore.\n",
      "Processing row 13: Ginger Scone\n",
      "Product Ginger Scone added to Firestore.\n",
      "Processing row 14: Chocolate syrup\n",
      "Product Chocolate syrup added to Firestore.\n",
      "Processing row 15: Hazelnut syrup\n",
      "Product Hazelnut syrup added to Firestore.\n",
      "Processing row 16: Carmel syrup\n",
      "Product Carmel syrup added to Firestore.\n",
      "Processing row 17: Sugar Free Vanilla syrup\n",
      "Product Sugar Free Vanilla syrup added to Firestore.\n"
     ]
    }
   ],
   "source": [
    "# for index, row in df.iterrows():\n",
    "#     print(index, row['name'])\n",
    "    \n",
    "#     image_path = os.path.join(image_folder_path,row['image_path'])\n",
    "    \n",
    "#     image_url = upload_image(bucket,image_path)\n",
    "#     product_data = row.to_dict()\n",
    "#     product_data.pop('image_path')\n",
    "#     product_data['image_url']= image_url\n",
    "    \n",
    "#     # Add to Firestore\n",
    "#     products_collection.push().set(product_data)\n",
    "\n",
    "for index, row in df.iterrows():\n",
    "    try:\n",
    "        print(f\"Processing row {index}: {row['name']}\")\n",
    "        \n",
    "        # Prepare the image path and upload the image\n",
    "        image_path = os.path.join(image_folder_path,row['image_path'])\n",
    "        image_url = upload_image(bucket, image_path)\n",
    "        \n",
    "        if not image_url:\n",
    "            print(f\"Skipping Firestore upload for row {index} due to image upload failure.\")\n",
    "            continue  # Skip Firestore entry if image upload failed\n",
    "        \n",
    "        # Prepare product data for Firestore\n",
    "        product_data = row.to_dict()\n",
    "        product_data.pop('image_path')  # Remove local image path\n",
    "        product_data['image_url'] = image_url  # Add Firebase Storage URL\n",
    "        \n",
    "        # Add data to Firestore\n",
    "        products_collection.push().set(product_data)    \n",
    "        print(f\"Product {row['name']} added to Firestore.\")\n",
    "        \n",
    "    except Exception as e:\n",
    "        print(f\"Error processing row {index} ({row['name']}): {e}\")    "
   ]
  },
  {
   "cell_type": "code",
   "execution_count": null,
   "metadata": {},
   "outputs": [],
   "source": []
  }
 ],
 "metadata": {
  "kernelspec": {
   "display_name": "shopping-assistant-w40lWNq4-py3.13",
   "language": "python",
   "name": "python3"
  },
  "language_info": {
   "codemirror_mode": {
    "name": "ipython",
    "version": 3
   },
   "file_extension": ".py",
   "mimetype": "text/x-python",
   "name": "python",
   "nbconvert_exporter": "python",
   "pygments_lexer": "ipython3",
   "version": "3.13.0"
  }
 },
 "nbformat": 4,
 "nbformat_minor": 2
}
