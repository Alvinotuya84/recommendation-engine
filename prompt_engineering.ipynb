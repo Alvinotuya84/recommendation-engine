{
 "cells": [
  {
   "cell_type": "code",
   "execution_count": 2,
   "metadata": {},
   "outputs": [
    {
     "data": {
      "text/plain": [
       "True"
      ]
     },
     "execution_count": 2,
     "metadata": {},
     "output_type": "execute_result"
    }
   ],
   "source": [
    "from openai import OpenAI\n",
    "import os\n",
    "import json\n",
    "from sklearn.metrics.pairwise import cosine_similarity\n",
    "from dotenv import load_dotenv\n",
    "load_dotenv()"
   ]
  },
  {
   "cell_type": "code",
   "execution_count": 39,
   "metadata": {},
   "outputs": [],
   "source": [
    "def get_bot_response(client, model_name, messages, temperature=0):\n",
    "    input_messages = []\n",
    "    for message in messages:\n",
    "        input_messages.append({\"role\": message[\"role\"], \"content\": message[\"content\"]})\n",
    "\n",
    "    response = client.chat.completions.create(\n",
    "        model=model_name,\n",
    "        messages=messages,\n",
    "        temperature=0.0, \n",
    "        top_p=0.8,\n",
    "        max_tokens=2000\n",
    "\n",
    "    ).choices[0].message.content\n",
    "    return response\n"
   ]
  },
  {
   "cell_type": "code",
   "execution_count": 40,
   "metadata": {},
   "outputs": [],
   "source": [
    "client = OpenAI(\n",
    "    api_key=os.getenv(\"RUN_POD_TOKEN\"),\n",
    "    base_url=os.getenv(\"RUN_POD_BOT_URL\")\n",
    ")\n",
    "model_name = os.getenv(\"MODEL_NAME\")"
   ]
  },
  {
   "cell_type": "code",
   "execution_count": 41,
   "metadata": {},
   "outputs": [],
   "source": [
    "system_prompt = \"\"\"\n",
    "You are a helpful assistant tha answer questions about capitals of countries. \n",
    "Your output should be in a structured json format exactly like the one bellow. You are not allowed to write anything other than the json object:\n",
    "[{\n",
    "  \"capital\": \"capital_of_country\",\n",
    "  \"country\": \"country_name\"\n",
    "s\"\"\"\n",
    "messages = [{\"role\":\"system\",\"content\": system_prompt  }]\n",
    "messages.append({\"role\":\"user\", \"content\":\"What is the capitical of Kenya?\"})\n",
    "response = get_bot_response(client, model_name, messages)"
   ]
  },
  {
   "cell_type": "code",
   "execution_count": 12,
   "metadata": {},
   "outputs": [
    {
     "name": "stdout",
     "output_type": "stream",
     "text": [
      "[{'capital': 'Nairobi', 'country': 'Kenya'}]\n"
     ]
    },
    {
     "data": {
      "text/plain": [
       "dict"
      ]
     },
     "execution_count": 12,
     "metadata": {},
     "output_type": "execute_result"
    }
   ],
   "source": [
    "json_response = json.loads(response)\n",
    "print(json_response)\n",
    "type (json_response[0])"
   ]
  },
  {
   "cell_type": "code",
   "execution_count": 25,
   "metadata": {},
   "outputs": [],
   "source": [
    "user_input = \"\"\"\n",
    "Get me the capitas of the following countries:\n",
    "```\n",
    "1. Kenya\n",
    "2. Uganda\n",
    "3. Rwanda\n",
    "4. Tanzania\n",
    "5. Burundi\n",
    "```\n",
    "\"\"\"\n",
    "\n",
    "messages = [{\"role\":\"system\",\"content\": system_prompt }]\n",
    "messages.append({\"role\":\"user\", \"content\":user_input})\n",
    "response = get_bot_response(client, model_name, messages)"
   ]
  },
  {
   "cell_type": "code",
   "execution_count": 26,
   "metadata": {},
   "outputs": [
    {
     "name": "stdout",
     "output_type": "stream",
     "text": [
      "[{\n",
      "  \"capital\": \"Nairobi\",\n",
      "  \"country\": \"Kenya\"\n",
      "},\n",
      "{\n",
      "  \"capital\": \"Kampala\",\n",
      "  \"country\": \"Uganda\"\n",
      "},\n",
      "{\n",
      "  \"capital\": \"Kigali\",\n",
      "  \"country\": \"Rwanda\"\n",
      "},\n",
      "{\n",
      "  \"capital\": \"Dodoma\",\n",
      "  \"country\": \"Tanzania\"\n",
      "},\n",
      "{\n",
      "  \"capital\": \"Gitega\",\n",
      "  \"country\": \"Burundi\"\n",
      "}]\n"
     ]
    }
   ],
   "source": [
    "print(response)"
   ]
  },
  {
   "cell_type": "code",
   "execution_count": 27,
   "metadata": {},
   "outputs": [],
   "source": [
    "## Give the model time to think  (Chain of thought)"
   ]
  },
  {
   "cell_type": "code",
   "execution_count": 9,
   "metadata": {},
   "outputs": [
    {
     "name": "stdout",
     "output_type": "stream",
     "text": [
      "{\n",
      "  \"steps\": \"First, we need to follow the BODMAS order of operations. \n",
      "  1. Divide 259 by 2: 259/2 = 129.5\n",
      "  2. Multiply 129.5 by 8654: 129.5 * 8654 = 1121011\n",
      "  3. Multiply 91072 by 33: 91072 * 33 = 3005016\n",
      "  4. Add 1121011 and 3005016: 1121011 + 3005016 = 4126027\n",
      "  5. Add 4126027 and 23: 4126027 + 23 = 4126050\",\n",
      "  \"result\": \"4126050\"\n",
      "}\n"
     ]
    }
   ],
   "source": [
    "user_prompt = \"\"\"\n",
    "Calculate the result of this equation: 259/2*8654+91072*33+23\n",
    "Your output should be in a structured json exactly like the one below. You are not allowed to write anything other than the json object:\n",
    "{\n",
    "  \"steps:\"This is where you solve the equation bit by bit following BODMAS order of operations. You need to show your work and calculate each step leading to the final result. Feel free to write in free text\"\n",
    "  \"result\": \"result_of_equation\"\n",
    "}\n",
    "\"\"\"\n",
    "messages = [{\"role\":\"user\",\"content\":user_prompt }]\n",
    "response = get_bot_response(client, model_name, messages)\n",
    "print(response)"
   ]
  },
  {
   "cell_type": "code",
   "execution_count": 8,
   "metadata": {},
   "outputs": [
    {
     "data": {
      "text/plain": [
       "4126092.0"
      ]
     },
     "execution_count": 8,
     "metadata": {},
     "output_type": "execute_result"
    }
   ],
   "source": [
    "259/2*8654+91"
   ]
  },
  {
   "cell_type": "code",
   "execution_count": 23,
   "metadata": {},
   "outputs": [
    {
     "name": "stdout",
     "output_type": "stream",
     "text": [
      "Since I'm not aware of any official information about the iPhone 16, I'll provide you with some general information about the latest iPhone models and some rumored features that might be included in future iPhone models.\n",
      "\n",
      "However, I can tell you about the latest iPhone models, such as the iPhone 14 series, which includes:\n",
      "\n",
      "1. iPhone 14\n",
      "2. iPhone 14 Plus\n",
      "3. iPhone 14 Pro\n",
      "4. iPhone 14 Pro Max\n",
      "\n",
      "Some of the key features of the iPhone 14 series include:\n",
      "\n",
      "1. Improved cameras with a new 48MP main camera on the Pro models\n",
      "2. Faster A16 Bionic chip\n",
      "3. Longer battery life\n",
      "4. New colors and designs\n",
      "5. Enhanced display with a higher refresh rate\n",
      "\n",
      "As for the iPhone 16, there's no official information available yet. However, based on rumors and leaks, here are some potential features that might be included:\n",
      "\n",
      "1. Improved cameras with a new periscope lens or a 3D modeling camera\n",
      "2. Faster A17 Bionic chip or a new chip design\n",
      "3. Enhanced display with a higher refresh rate or a new OLED panel\n",
      "4. New colors and designs\n",
      "5. Improved battery life and charging capabilities\n",
      "6. Enhanced biometric security with a new fingerprint sensor or facial recognition system\n",
      "7. Integration with augmented reality (AR) and virtual reality (VR) technologies\n",
      "8. Improved water and dust resistance\n",
      "9. Enhanced wireless charging capabilities\n",
      "10. New software features and updates to iOS\n",
      "\n",
      "Please note that these are just rumors and speculations, and Apple has not officially confirmed any of these features. I recommend checking Apple's official website or reputable tech news sources for the latest information on upcoming iPhone models.\n"
     ]
    }
   ],
   "source": [
    "user_prompt = \"\"\"\n",
    "What's new in iphone 16?\n",
    "\"\"\"\n",
    "messages = [{\"role\":\"user\",\"content\":user_prompt }]\n",
    "response = get_bot_response(client, model_name, messages)\n",
    "print(response)"
   ]
  },
  {
   "cell_type": "code",
   "execution_count": 13,
   "metadata": {},
   "outputs": [],
   "source": [
    "mark_x= \"\"\"\n",
    "Toyota Mark X\n",
    "\n",
    "Model: Toyota Mark X\n",
    "Description: The Toyota Mark X is a mid-size sedan that combines a sleek design with performance and comfort. Known for its powerful engine options, luxurious interior, and smooth handling, it offers a refined driving experience.\n",
    "Engine Options:\n",
    "2.5L V6 with 203 horsepower\n",
    "3.5L V6 with 318 horsepower\n",
    "Transmission:\n",
    "6-speed automatic transmission\n",
    "Rear-wheel drive for better balance and handling\n",
    "Features:\n",
    "Dual-zone climate control\n",
    "Leather-trimmed seats with heated options\n",
    "Touchscreen infotainment system with Bluetooth and navigation\n",
    "Performance:\n",
    "Acceleration: 0-100 km/h in around 8.4 seconds for the 2.5L model and 6.3 seconds for the 3.5L model\n",
    "Fuel Efficiency: Approximately 12 km/l for the 2.5L model and 10 km/l for the 3.5L model\n",
    "Safety:\n",
    "Standard airbags, ABS, electronic stability control, and brake assist\n",
    "Optional adaptive cruise control and lane departure warning\n",
    "Market:\n",
    "Popular in Japan and some markets in Asia, known for blending luxury and performance at a competitive price point\n",
    "\n",
    "\"\"\"\n",
    "Volvo_XC60 =\"\"\"\n",
    "Volvo XC60\n",
    "\n",
    "Model: Volvo XC60\n",
    "Description: The Volvo XC60 is a compact luxury SUV that emphasizes safety, comfort, and Scandinavian design. Known for its premium interiors and advanced safety technologies, it’s designed for those who value refinement and peace of mind.\n",
    "Engine Options:\n",
    "2.0L turbocharged I4 with 250 horsepower (T5)\n",
    "2.0L turbocharged and supercharged I4 with 316 horsepower (T6)\n",
    "Plug-in hybrid with 400 horsepower (T8)\n",
    "Transmission:\n",
    "8-speed automatic transmission\n",
    "All-wheel drive standard on all models\n",
    "Features:\n",
    "Panoramic sunroof\n",
    "9-inch Sensus infotainment touchscreen\n",
    "Leather upholstery, heated and ventilated front seats\n",
    "Performance:\n",
    "Acceleration: 0-100 km/h in around 6.8 seconds for the T5 and 5.5 seconds for the T8 hybrid\n",
    "Fuel Efficiency: Approximately 11 km/l for gasoline engines and 22 km/l for the T8 hybrid\n",
    "Safety:\n",
    "Advanced safety features like City Safety with Autobrake, blind-spot monitoring, and Pilot Assist semi-autonomous driving\n",
    "Volvo’s high-strength steel construction for superior crash protection\n",
    "Market:\n",
    "Popular worldwide, especially in Europe and North America, known as a top choice for families seeking a premium, safe SUV\n",
    "\"\"\"\n",
    "data = [mark_x, Volvo_XC60]"
   ]
  },
  {
   "cell_type": "code",
   "execution_count": 26,
   "metadata": {},
   "outputs": [],
   "source": [
    "user_prompt= \"\"\"\n",
    "What's new in a Volvo?\n",
    "\"\"\""
   ]
  },
  {
   "cell_type": "code",
   "execution_count": 27,
   "metadata": {},
   "outputs": [],
   "source": [
    "embedding_client = OpenAI(\n",
    "    api_key=os.getenv(\"RUN_POD_TOKEN\"),\n",
    "    base_url=os.getenv(\"RUN_POD_NEW_EMDEDDING_URL\")\n",
    ")\n",
    "\n",
    "def get_emedding(embedding_client, model, text_input):\n",
    "    output = embedding_client.embeddings.create(\n",
    "        input=text_input,\n",
    "        model=model\n",
    "    )\n",
    "    embeddings= []\n",
    "    for embedding_object in output.data:\n",
    "        embeddings.append(embedding_object.embedding)\n",
    "    return embeddings    \n",
    "\n",
    "\n"
   ]
  },
  {
   "cell_type": "code",
   "execution_count": 28,
   "metadata": {},
   "outputs": [],
   "source": [
    "\n",
    "model_name = os.getenv(\"MODEL_NAME\")\n",
    "user_prompt_embeddings=get_emedding(embedding_client,model=model_name,text_input=user_prompt)[0]\n",
    "data_embeddings = [get_emedding(embedding_client,model=model_name,text_input=text)[0] for text in data]\n"
   ]
  },
  {
   "cell_type": "code",
   "execution_count": 29,
   "metadata": {},
   "outputs": [
    {
     "name": "stdout",
     "output_type": "stream",
     "text": [
      "[[-0.05582662671804428, 0.017703358083963394, 0.07343841344118118, 0.04538774862885475, 0.0015185208758339286, 0.07020297646522522, 0.003077103290706873, 0.10078705102205276, -0.003971809521317482, 0.040168311446905136, 0.05381210520863533, -0.03009570948779583, 0.01991627924144268, -0.009164540097117424, -0.025593562051653862, -0.011133275926113129, 0.08161859214305878, -0.09138596057891846, -0.005642945412546396, -0.025944577530026436, 0.08460984379053116, -0.014841824769973755, -0.038275882601737976, -0.025425685569643974, 0.07905465364456177, 0.005650576204061508, -0.011514813639223576, 0.04978306591510773, -0.07124076038599014, -0.1734929233789444, -0.05802428349852562, -0.007966511882841587, 0.06849368661642075, 0.020267292857170105, -0.06562452018260956, 0.027745436877012253, -0.017123421654105186, 0.013872718438506126, 0.00279476516880095, -0.039527326822280884, -0.020084155723452568, 0.0664181187748909, -0.02127455361187458, 0.039771512150764465, -0.0018771664472296834, 0.0017541205743327737, -0.028661128133535385, 0.03470468893647194, 0.09199641644954681, -0.001086429227143526, -0.01666557602584362, -0.02086249180138111, 0.011079860851168633, 0.0035559332463890314, -0.02046569250524044, -0.011957397684454918, 0.06257221847772598, -0.03510148823261261, -0.025654608383774757, -0.08222904801368713, 0.006291559897363186, 0.03406370431184769, -0.12575489282608032, 0.08625809103250504, -0.002745165256783366, 0.0062953755259513855, -0.038825295865535736, -0.03580351546406746, 0.029180018231272697, 0.012827304191887379, -0.006661651656031609, -0.022571781650185585, -0.007092789746820927, 0.04795168340206146, -0.047646455466747284, -0.030980877578258514, -0.07337737083435059, -0.04319009184837341, -0.04254910722374916, -0.014788408763706684, -0.03162186220288277, -0.08198486268520355, -0.10072600841522217, -0.04349531978368759, -0.030980877578258514, -0.029912572354078293, 0.08717378228902817, 0.014536594040691853, 0.03864216059446335, 0.057963237166404724, 0.0029149495530873537, -0.012064228765666485, -0.015360715799033642, -0.050363004207611084, -0.002781411400064826, -0.030584078282117844, -0.013292781077325344, -0.02968364953994751, 0.029775219038128853, 0.36261361837387085, 0.00013115366164129227, 0.021915536373853683, 0.03500991687178612, -0.015360715799033642, 0.08021453022956848, 0.0176117904484272, -0.048745281994342804, 0.03305644541978836, -0.0501493439078331, -0.023777442052960396, 0.022999104112386703, 0.01322410348802805, -0.0038401789497584105, -0.043037474155426025, -0.030385678634047508, -0.07001983374357224, -0.0002501457929611206, 0.021182984113693237, 0.10249634087085724, -0.04755488410592079, 0.018863234668970108, -7.565181294921786e-05, 0.06434255093336105, -0.03269016742706299, 0.013979548588395119, 0.0250899326056242, 0.0854644924402237, 0.03131663054227829, -0.020557262003421783, -0.044929903000593185, -0.002222458366304636, -0.02942420355975628, -0.04050406441092491, 0.007531558163464069, 0.03485730290412903, 0.004231255501508713, 0.024998363107442856, 0.017703358083963394, -0.05188915506005287, 0.006367867812514305, 0.0015633516013622284, -0.040473539382219315, 0.04535722732543945, -0.08552553504705429, -0.01719972863793373, 0.05662022531032562, 0.014063486829400063, -0.01938212476670742, -0.023685872554779053, 0.028691651299595833, 0.008950878866016865, 0.023609565570950508, -0.014605270698666573, -0.03507096320390701, 0.0623585544526577, 0.0005289069376885891, 0.05842108279466629, -0.00337279518134892, -0.07826105505228043, -0.02696709893643856, 0.03023306280374527, 0.047493837773799896, -0.07624653726816177, 0.03076721727848053, 0.05353739857673645, -0.06977564841508865, -0.10860095173120499, 0.045204609632492065, -0.01437634788453579, 0.02168661542236805, -0.023380642756819725, 0.08216800540685654, -0.021717136725783348, 0.02183922939002514, -0.0063983905129134655, 0.045601408928632736, -0.0636710450053215, 0.038825295865535736, -0.017871234565973282, -0.02766912803053856, 0.028096450492739677, -0.018771665170788765, -0.020770924165844917, 0.004879869986325502, -0.007821527309715748, 0.06611289083957672, -0.016589269042015076, 0.007417096756398678, 0.06434255093336105, 0.008172541856765747, 0.029714172706007957, -0.011308783665299416, -0.01898532547056675, 0.05872631445527077, -0.04535722732543945, -0.08015348017215729, -0.055490873754024506, 0.01924477145075798, 0.04593716561794281, -0.002827195916324854, 0.04419735074043274, 0.01388798002153635, 0.008187803439795971, -0.009385832585394382, -0.026081930845975876, -0.023472212255001068, -0.016619790345430374, 0.044655196368694305, -0.02261756733059883, -0.009034818038344383, -0.06525824218988419, 0.011728474870324135, -0.019962063059210777, -0.03647502511739731, -0.022525997832417488, 0.005146946292370558, -0.022541260346770287, 0.016879236325621605, 0.06299953907728195, 0.018466435372829437, 0.04395316541194916, 0.0005083992728032172, -0.014963916502892971, -0.25956785678863525, 0.020160462707281113, -0.05842108279466629, 0.0460592545568943, 0.012422874569892883, -0.020099416375160217, 0.02319750376045704, -0.038977913558483124, 0.05512459576129913, -0.04462467506527901, 0.017733881250023842, -0.016696099191904068, -0.01800858974456787, -0.008645649068057537, -0.01642139069736004, 0.03214075416326523, -0.03858111426234245, 0.023624826222658157, -0.03201866149902344, 0.016436653211712837, -0.015208100900053978, 0.08839470148086548, -0.06415941566228867, 0.05042405053973198, 0.10615910589694977, -0.013407241553068161, 0.03766542300581932, -0.05884840711951256, 0.07893256098031998, -0.07240062952041626, 0.05295746028423309, -1.6096130366349826e-06, -0.011049337685108185, 0.0637931376695633, 0.025700394064188004, 0.007058451417833567, -0.011507183313369751, -0.02739442139863968, -0.05066823214292526, -0.03690234571695328, -0.012773889116942883, -0.03290382772684097, -0.044929903000593185, -0.023960581049323082, 0.07801686972379684, -0.08522030711174011, 0.002514334861189127, -0.06208384782075882, -0.008729587309062481, 0.07765059173107147, 0.049142081290483475, 0.09279001504182816, -0.01077463012188673, 0.027745436877012253, 0.001964920200407505, 0.006047375965863466, -0.0460592545568943, 0.028157496824860573, -0.019336340948939323, -0.035437241196632385, -0.04944731295108795, -0.044136304408311844, -0.0018857511458918452, -0.013605642132461071, -0.05027143284678459, -0.00047072238521650434, -0.023228026926517487, -0.0017913205083459616, -0.08656331896781921, -0.023960581049323082, -0.051034510135650635, 0.05472779646515846, -0.03696339204907417, -0.014078748412430286, 0.03278173506259918, 0.0027146420907229185, 0.014361086301505566, -0.012056597508490086, 0.027455467730760574, 0.010049708187580109, 0.030553555116057396, 0.00283101131208241, 0.04840952903032303, 0.032995399087667465, 0.0827174186706543, 0.05448361113667488, 0.010423615574836731, -0.04111452400684357, -0.03214075416326523, 0.030385678634047508, -0.008080973289906979, -0.03439945727586746, 0.07533084601163864, -0.042488060891628265, -0.003595994785428047, -0.05176706239581108, -0.22696927189826965, 0.0037524253129959106, -0.029576817527413368, 0.02887478843331337, -0.10078705102205276, -0.030980877578258514, -0.01587197743356228, -0.08796738088130951, -0.03439945727586746, 0.03189656883478165, -0.00936293974518776, 0.05430047586560249, 0.03702443838119507, 0.05069875717163086, 0.03159133717417717, -0.01587197743356228, 0.1098829135298729, -0.013254626654088497, 0.05863474681973457, 0.0812523141503334, -0.09767370671033859, -0.017810190096497536, 0.0651361495256424, -0.009851308539509773, 0.07435410469770432, 0.01611616089940071, -0.08772319555282593, 0.024738917127251625, 0.052377521991729736, 0.06458673626184464, 0.029576817527413368, -0.0027184574864804745, 0.037482284009456635, -0.03540671616792679, -0.02928685024380684, 0.003651317674666643, 0.03485730290412903, -0.02696709893643856, 0.06623498350381851, 0.0691041424870491, 0.07691804319620132, 0.06144286319613457, 0.0023827042896300554, -0.02682974562048912, 0.05701702460646629, -0.011675059795379639, -0.02180870622396469, -0.0032316260039806366, -0.02887478843331337, 0.03888634219765663, 0.06019141897559166, 0.03323958069086075, -0.017413390800356865, -0.0067799286916852, 0.1125078946352005, -0.012583119794726372, -0.04392264410853386, -0.05716963857412338, -0.00276042683981359, -0.0664791613817215, 0.015047854743897915, -0.022877013310790062, -0.011949767358601093, 0.04105347767472267, 0.01843591220676899], [-0.00014751743583474308, 0.032517705112695694, 0.041730038821697235, 0.01475651003420353, 0.05426735430955887, 0.044658463448286057, -0.01089007593691349, 0.04423139989376068, -0.022802049294114113, 0.040723394602537155, 0.0650964230298996, -0.045207541435956955, -0.04050986096262932, -0.009685151278972626, -0.012499183416366577, 0.020788758993148804, 0.0679028257727623, -0.051216911524534225, 0.01341431587934494, -0.00347178359515965, 0.04725133627653122, -0.02772851288318634, -0.0007931147702038288, -0.09078113734722137, 0.04050986096262932, -0.015229328535497189, 0.05573156476020813, 0.033188801258802414, -0.06485238671302795, -0.17192287743091583, -0.019553329795598984, -0.013986273668706417, 0.02615753561258316, 0.04450593888759613, -0.049142610281705856, -0.021353090181946754, -0.05792788416147232, 0.01142390351742506, 0.006150452420115471, -0.06106983870267868, -0.03273123502731323, 0.028643645346164703, -0.037916988134384155, 0.05695174261927605, -0.037459421902894974, 0.010539275594055653, 0.017829829826951027, 0.05350474268198013, 0.06219850108027458, -0.004850201774388552, 0.019111014902591705, 0.007713803555816412, 0.02268003113567829, -0.002844536677002907, -0.009616516530513763, -0.03700185567140579, -0.011660312302410603, -0.011942477896809578, 0.025959257036447525, -0.01964484341442585, -0.012636453844606876, -0.02211569994688034, -0.10688746720552444, 0.11018194258213043, -0.021368341520428658, 0.05832444131374359, -0.04395686089992523, -0.045482080429792404, 0.020132914185523987, -0.016762176528573036, 0.03675781935453415, -0.01869920641183853, -0.011126484721899033, 0.036391764879226685, 0.032853253185749054, 0.004895958583801985, -0.024952610954642296, -0.04182155057787895, 0.016365617513656616, 0.0241289921104908, 0.02121582068502903, -0.026111777871847153, -0.11176817119121552, -0.03508007526397705, 0.017265498638153076, -0.0364832803606987, 0.05945310369133949, -0.010531648993492126, 0.02481534145772457, -0.009029306471347809, -0.051826998591423035, 0.009952065534889698, -0.0031438611913472414, -0.02839960902929306, -0.04188255965709686, -0.027194686233997345, -0.02008715644478798, -0.06466935575008392, 0.030717944726347923, 0.33701276779174805, 0.03109925054013729, 0.08425319194793701, -0.004304935690015554, -0.038649093359708786, -0.04969169199466705, 0.09785816073417664, 0.01012746524065733, 0.015130189247429371, -0.026950649917125702, -0.01545811165124178, 0.0376119427382946, 0.01773831620812416, -0.030153613537549973, -0.04517703875899315, -0.021414099261164665, -0.042126595973968506, -0.041608020663261414, 0.02142935059964657, 0.06253404915332794, 0.0690619945526123, -0.04124196991324425, -0.030885718762874603, 0.14068636298179626, -0.008884410373866558, 0.07327160239219666, 0.03941170498728752, 0.07589498162269592, 0.018958494067192078, -0.00962414313107729, 0.004270617850124836, 0.04569561406970024, -0.0027015472296625376, 0.029421508312225342, -0.03495805710554123, 0.017250245437026024, -0.05567055568099022, -0.051094893366098404, 0.04508552327752113, -0.036117225885391235, -0.015801286324858665, -0.05841595306992531, -0.06668265163898468, -0.01795184798538685, -0.07089225947856903, -0.09248938411474228, 0.026813380420207977, 0.0005671914550475776, -0.029757056385278702, 0.026127031072974205, 0.05560954660177231, 0.05911755561828613, 0.017372263595461845, 0.0227257888764143, 0.003174365730956197, 0.03861858695745468, 0.015534373000264168, -0.04136398434638977, 0.030717944726347923, -0.050088249146938324, -0.03282275050878525, 0.04081490635871887, -0.0035232598893344402, -0.07772524654865265, 0.06857392191886902, -0.023320624604821205, -0.13873407244682312, -0.04044885188341141, 0.09425864368677139, -0.012590697035193443, -0.017662055790424347, -0.022039439529180527, 0.04990522190928459, -0.004388822708278894, 0.018546683713793755, 0.031068746000528336, 0.10566729307174683, -0.03556814789772034, -0.012056869454681873, -0.05365726351737976, -0.021139558404684067, 0.05011875182390213, 0.005486981477588415, -0.06729273498058319, 0.039320189505815506, 0.0359036959707737, 0.07497984915971756, 0.011309511959552765, -0.019629590213298798, 0.02216145768761635, -0.00931909866631031, -0.010867197997868061, 0.025394925847649574, -0.01593855582177639, 0.042797692120075226, 0.03834404796361923, 0.002436540089547634, 0.013528707437217236, -0.010241856798529625, 0.00993681326508522, -0.035720668733119965, 0.048349495977163315, 0.03721538558602333, 0.027423469349741936, 0.0227257888764143, -0.00015669259300921112, -0.0477089025080204, -0.05271162837743759, -0.01660965383052826, -0.05521298944950104, -0.04953916743397713, -0.07168537378311157, -0.012217017821967602, -0.028597887605428696, -0.01937030255794525, -0.027804773300886154, -0.016701167449355125, -0.06997712701559067, 0.00751933827996254, 0.0046900538727641106, -0.01240004412829876, 0.01246105320751667, 0.029650291427969933, 0.015587755478918552, -0.25892147421836853, 0.027362460270524025, -0.06140538677573204, 0.04584813490509987, -0.02027018368244171, -0.06314413994550705, 0.0311602596193552, -0.0342259518802166, 0.06161891669034958, -0.04050986096262932, 0.11555071920156479, 0.015862295404076576, 0.02934524603188038, 0.028018305078148842, -0.01650288887321949, 0.08480226993560791, -0.05030177906155586, 0.004415513947606087, -0.08596143871545792, 0.024678071960806847, 0.025898247957229614, 0.05524349585175514, -0.09865127503871918, -0.029055453836917877, 0.06912299990653992, -0.030397647991776466, 0.08437521010637283, -0.10920580476522446, 0.06503541022539139, -0.06692668795585632, -0.004232487641274929, 0.01490140613168478, 0.05158296599984169, 0.042736683040857315, 0.026965903118252754, -0.05881251022219658, -0.013490577228367329, -0.0120644960552454, -0.03941170498728752, -0.014352327212691307, -0.017723064869642258, 0.008861532434821129, -0.038862623274326324, -0.04011330381035805, -0.006222900468856096, -0.06021571531891823, -0.10633838921785355, 0.02498311549425125, -0.05673820897936821, 0.07052620500326157, -0.06073429062962532, 0.07473581284284592, 0.01018847431987524, 0.04758688807487488, 0.030016344040632248, -0.022100448608398438, -0.05582307651638985, -0.06296110898256302, -0.05451138690114021, 0.018104370683431625, -0.0656455010175705, 0.00844972301274538, -0.0027225189842283726, -0.01847042329609394, 0.03148055449128151, -0.04850202053785324, 0.008609871380031109, -0.05414533615112305, 0.016258852556347847, -0.04407887905836105, -0.08053165674209595, 0.08059266209602356, 0.03956422582268715, 0.022252969443798065, 0.026249049231410027, -0.00995969120413065, 0.00016455701552331448, 0.028430113568902016, 0.0465802401304245, 0.04258416220545769, 0.04255365952849388, -0.01560300774872303, 0.037520430982112885, 0.012827105820178986, 0.08169081807136536, -0.028597887605428696, 0.0031934308353811502, -0.02115481160581112, -0.020407453179359436, -0.029452012851834297, 4.2122304876102135e-05, 0.00213340250775218, 0.037459421902894974, -0.06436431407928467, 0.06460835039615631, -0.047739408910274506, -0.2160932719707489, -0.014931910671293736, -0.0034870358649641275, 0.0013746052281931043, -0.026249049231410027, -0.03385990113019943, -0.016426626592874527, -0.05988016352057457, -0.0645473375916481, -0.01371936034411192, -0.0505153089761734, 0.11780805140733719, 0.04905109852552414, 0.07992156594991684, 0.024845845997333527, -0.03810001164674759, 0.045329559594392776, -0.05512147769331932, 0.005445037968456745, -0.0376119427382946, -0.01807386614382267, 0.01142390351742506, 0.09346552193164825, 0.038862623274326324, 0.029650291427969933, 0.02969604730606079, -0.002787340898066759, 0.03602571412920952, 0.027423469349741936, 0.014413335360586643, 0.03663580119609833, 0.0348055362701416, 0.038313545286655426, -0.04157751798629761, -0.025806734338402748, 0.014390457421541214, 0.0024136616848409176, 0.04966118559241295, 0.04523804783821106, 0.035659659653902054, 0.025944003835320473, 0.08431420475244522, 0.02969604730606079, -0.08626648038625717, 0.09242837876081467, -0.023701930418610573, -0.004030395764857531, -0.030946727842092514, -0.045207541435956955, 0.029421508312225342, 0.0785793736577034, -0.008602244779467583, -0.0057272035628557205, -0.054694414138793945, 0.03935069590806961, -0.003311635460704565, 0.04798344522714615, 0.02165813371539116, 0.07430875301361084, -0.016426626592874527, 0.024556053802371025, -0.005342085380107164, -0.005101863294839859, 0.04230962321162224, 0.02699640579521656]]\n"
     ]
    }
   ],
   "source": [
    "\n",
    "data_similarity=cosine_similarity([user_prompt_embeddings], data_embeddings)\n",
    "print(data_embeddings)"
   ]
  },
  {
   "cell_type": "code",
   "execution_count": 30,
   "metadata": {},
   "outputs": [
    {
     "data": {
      "text/plain": [
       "array([[0.51927357, 0.68496362]])"
      ]
     },
     "execution_count": 30,
     "metadata": {},
     "output_type": "execute_result"
    }
   ],
   "source": [
    "data_similarity"
   ]
  },
  {
   "cell_type": "code",
   "execution_count": 31,
   "metadata": {},
   "outputs": [],
   "source": [
    "closest_entry_index = data_similarity.argmax()"
   ]
  },
  {
   "cell_type": "code",
   "execution_count": 32,
   "metadata": {},
   "outputs": [
    {
     "data": {
      "text/plain": [
       "'\\nVolvo XC60\\n\\nModel: Volvo XC60\\nDescription: The Volvo XC60 is a compact luxury SUV that emphasizes safety, comfort, and Scandinavian design. Known for its premium interiors and advanced safety technologies, it’s designed for those who value refinement and peace of mind.\\nEngine Options:\\n2.0L turbocharged I4 with 250 horsepower (T5)\\n2.0L turbocharged and supercharged I4 with 316 horsepower (T6)\\nPlug-in hybrid with 400 horsepower (T8)\\nTransmission:\\n8-speed automatic transmission\\nAll-wheel drive standard on all models\\nFeatures:\\nPanoramic sunroof\\n9-inch Sensus infotainment touchscreen\\nLeather upholstery, heated and ventilated front seats\\nPerformance:\\nAcceleration: 0-100 km/h in around 6.8 seconds for the T5 and 5.5 seconds for the T8 hybrid\\nFuel Efficiency: Approximately 11 km/l for gasoline engines and 22 km/l for the T8 hybrid\\nSafety:\\nAdvanced safety features like City Safety with Autobrake, blind-spot monitoring, and Pilot Assist semi-autonomous driving\\nVolvo’s high-strength steel construction for superior crash protection\\nMarket:\\nPopular worldwide, especially in Europe and North America, known as a top choice for families seeking a premium, safe SUV\\n'"
      ]
     },
     "execution_count": 32,
     "metadata": {},
     "output_type": "execute_result"
    }
   ],
   "source": [
    "data[closest_entry_index]"
   ]
  },
  {
   "cell_type": "code",
   "execution_count": 33,
   "metadata": {},
   "outputs": [],
   "source": [
    "user_prompt_with_data =f\"\"\"\n",
    "{data[closest_entry_index]}\n",
    "{user_prompt}\n",
    "\"\"\""
   ]
  },
  {
   "cell_type": "code",
   "execution_count": 55,
   "metadata": {},
   "outputs": [
    {
     "name": "stdout",
     "output_type": "stream",
     "text": [
      "\n",
      "\n",
      "Volvo XC60\n",
      "\n",
      "Model: Volvo XC60\n",
      "Description: The Volvo XC60 is a compact luxury SUV that emphasizes safety, comfort, and Scandinavian design. Known for its premium interiors and advanced safety technologies, it’s designed for those who value refinement and peace of mind.\n",
      "Engine Options:\n",
      "2.0L turbocharged I4 with 250 horsepower (T5)\n",
      "2.0L turbocharged and supercharged I4 with 316 horsepower (T6)\n",
      "Plug-in hybrid with 400 horsepower (T8)\n",
      "Transmission:\n",
      "8-speed automatic transmission\n",
      "All-wheel drive standard on all models\n",
      "Features:\n",
      "Panoramic sunroof\n",
      "9-inch Sensus infotainment touchscreen\n",
      "Leather upholstery, heated and ventilated front seats\n",
      "Performance:\n",
      "Acceleration: 0-100 km/h in around 6.8 seconds for the T5 and 5.5 seconds for the T8 hybrid\n",
      "Fuel Efficiency: Approximately 11 km/l for gasoline engines and 22 km/l for the T8 hybrid\n",
      "Safety:\n",
      "Advanced safety features like City Safety with Autobrake, blind-spot monitoring, and Pilot Assist semi-autonomous driving\n",
      "Volvo’s high-strength steel construction for superior crash protection\n",
      "Market:\n",
      "Popular worldwide, especially in Europe and North America, known as a top choice for families seeking a premium, safe SUV\n",
      "\n",
      "\n",
      "What's new in a Volvo?\n",
      "\n",
      "\n"
     ]
    }
   ],
   "source": [
    "print(user_prompt_with_data)"
   ]
  },
  {
   "cell_type": "code",
   "execution_count": null,
   "metadata": {},
   "outputs": [],
   "source": [
    "client = OpenAI(\n",
    "    api_key=os.getenv(\"RUN_POD_TOKEN\"),\n",
    "    base_url=os.getenv(\"RUN_POD_BOT_URL\")\n",
    ")\n",
    "model_name = os.getenv(\"MODEL_NAME\")\n",
    "\n",
    "messages =[{\"role\": \"user\", \"content\": user_prompt_with_data} ]\n",
    "response = get_bot_response(client, model_name, messages)"
   ]
  },
  {
   "cell_type": "code",
   "execution_count": 38,
   "metadata": {},
   "outputs": [
    {
     "data": {
      "text/plain": [
       "\"Based on the information provided, here are some new features and updates in a Volvo XC60:\\n\\n1. **Plug-in Hybrid Option**: The Volvo XC60 now offers a plug-in hybrid model, the T8, which provides 400 horsepower and an estimated 22 km/l fuel efficiency.\\n2. **Advanced Safety Features**: The XC60 comes equipped with advanced safety features like City Safety with Autobrake, blind-spot monitoring, and Pilot Assist semi-autonomous driving.\\n3. **High-Strength Steel Construction**: Volvo's high-strength steel construction provides superior crash protection, making the XC60 a safe choice for families.\\n4. **Premium Interiors**: The XC60 features premium interiors with leather upholstery, heated and ventilated front seats, and a panoramic sunroof.\\n5. **Sensus Infotainment System**: The XC60 comes with a 9-inch Sensus infotainment touchscreen, providing an intuitive and user-friendly interface.\\n6. **Improved Performance**: The T8 hybrid model accelerates from 0-100 km/h in just 5.5 seconds, making it a quick and responsive vehicle.\\n\\nThese updates and features make the Volvo XC60 a top choice for families seeking a premium, safe, and comfortable SUV.\""
      ]
     },
     "execution_count": 38,
     "metadata": {},
     "output_type": "execute_result"
    }
   ],
   "source": [
    "response"
   ]
  },
  {
   "cell_type": "code",
   "execution_count": null,
   "metadata": {},
   "outputs": [],
   "source": []
  }
 ],
 "metadata": {
  "kernelspec": {
   "display_name": "shopping-assistant-w40lWNq4-py3.13",
   "language": "python",
   "name": "python3"
  },
  "language_info": {
   "codemirror_mode": {
    "name": "ipython",
    "version": 3
   },
   "file_extension": ".py",
   "mimetype": "text/x-python",
   "name": "python",
   "nbconvert_exporter": "python",
   "pygments_lexer": "ipython3",
   "version": "3.13.0"
  }
 },
 "nbformat": 4,
 "nbformat_minor": 2
}
